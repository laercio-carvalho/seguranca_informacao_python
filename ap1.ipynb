{
 "cells": [
  {
   "cell_type": "code",
   "execution_count": 1,
   "id": "initial_id",
   "metadata": {
    "collapsed": true,
    "ExecuteTime": {
     "end_time": "2023-09-14T12:41:53.742679800Z",
     "start_time": "2023-09-14T12:41:34.541674800Z"
    }
   },
   "outputs": [
    {
     "name": "stdout",
     "output_type": "stream",
     "text": [
      "b'\\xf2\\xeaB\\xaeb\\x1c>k\\x10\\x033b\\xd9y$\\x84'\n"
     ]
    }
   ],
   "source": [
    "import hashlib\n",
    "from cryptography.hazmat.primitives.ciphers import Cipher, algorithms, modes\n",
    "from cryptography.hazmat.primitives import padding\n",
    "import os\n",
    "\n",
    "#RECEBE A MENSAGEM A SER ENVIADA\n",
    "msn = input(\"Digite sua mensagem: \")\n",
    "hash_object = hashlib.sha256()\n",
    "hash_object.update(msn.encode('utf-8'))\n",
    "hash_hex = hash_object.hexdigest()\n",
    "\n",
    "#PREPARANDO A CRIPTOGRAFIA\n",
    "#msn = msn.upper()\n",
    "key = os.urandom(32)\n",
    "iv = os.urandom(16)\n",
    "cipher = Cipher(algorithms.AES(key), modes.CBC(iv))\n",
    "msn_bytes = msn.encode('utf-8')\n",
    "padder = padding.PKCS7(128).padder()\n",
    "msn_bytes_padded = padder.update(msn_bytes) + padder.finalize()\n",
    "\n",
    "#ENCRIPTOGRAFANDO A MENSAGEM\n",
    "encryptor = cipher.encryptor()\n",
    "ciphertext = encryptor.update(msn_bytes_padded) + encryptor.finalize()\n",
    "print(ciphertext)"
   ]
  },
  {
   "cell_type": "code",
   "execution_count": 2,
   "outputs": [
    {
     "name": "stdout",
     "output_type": "stream",
     "text": [
      "Acesso autorizado!\n"
     ]
    }
   ],
   "source": [
    "users = {\n",
    "    \"sandro\": \"123456\",\n",
    "    \"pedro\": \"987654\",\n",
    "    \"jose\": \"010203\"\n",
    "}\n",
    "\n",
    "user = input(\"Digite o usuário: \").lower().strip()\n",
    "\n",
    "if user in users and users[user] == input(\"Digite a senha: \").strip():\n",
    "  print(\"Acesso autorizado!\")\n",
    "  access = True\n",
    "else:\n",
    "  print(\"Usuario ou senha incorreto, sistema encerrado!\")\n",
    "  access = False"
   ],
   "metadata": {
    "collapsed": false,
    "ExecuteTime": {
     "end_time": "2023-09-14T12:42:02.317849600Z",
     "start_time": "2023-09-14T12:41:56.030376600Z"
    }
   },
   "id": "cf3d520cb77eab53"
  },
  {
   "cell_type": "code",
   "execution_count": 3,
   "outputs": [
    {
     "name": "stdout",
     "output_type": "stream",
     "text": [
      "Mensagem recebida integra\n",
      "use linux\n"
     ]
    }
   ],
   "source": [
    "if access:\n",
    "  decryptor = cipher.decryptor()\n",
    "  plaintext_padded = decryptor.update(ciphertext) + decryptor.finalize()\n",
    "  unpadder = padding.PKCS7(128).unpadder()\n",
    "  plaintext = unpadder.update(plaintext_padded) + unpadder.finalize()\n",
    "  decodetext = plaintext.decode('utf-8')\n",
    "\n",
    "  hash_object = hashlib.sha256()\n",
    "  hash_object.update(decodetext.encode('utf-8'))\n",
    "  hash_hex_rec = hash_object.hexdigest()\n",
    "  if hash_hex_rec == hash_hex:\n",
    "    print(\"Mensagem recebida integra\")\n",
    "    print(decodetext)\n",
    "  else:\n",
    "    print(\"Mensagem comprometida\")"
   ],
   "metadata": {
    "collapsed": false,
    "ExecuteTime": {
     "end_time": "2023-09-14T12:42:06.503393Z",
     "start_time": "2023-09-14T12:42:06.497895Z"
    }
   },
   "id": "3fdd763295e7071f"
  },
  {
   "cell_type": "code",
   "execution_count": null,
   "outputs": [],
   "source": [],
   "metadata": {
    "collapsed": false
   },
   "id": "3cc07b517e2c5691"
  }
 ],
 "metadata": {
  "kernelspec": {
   "display_name": "Python 3",
   "language": "python",
   "name": "python3"
  },
  "language_info": {
   "codemirror_mode": {
    "name": "ipython",
    "version": 2
   },
   "file_extension": ".py",
   "mimetype": "text/x-python",
   "name": "python",
   "nbconvert_exporter": "python",
   "pygments_lexer": "ipython2",
   "version": "2.7.6"
  }
 },
 "nbformat": 4,
 "nbformat_minor": 5
}
